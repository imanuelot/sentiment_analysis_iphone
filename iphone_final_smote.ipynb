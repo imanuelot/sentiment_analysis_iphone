{
  "cells": [
    {
      "cell_type": "markdown",
      "metadata": {
        "id": "view-in-github",
        "colab_type": "text"
      },
      "source": [
        "<a href=\"https://colab.research.google.com/github/imanuelot/sentiment_analysis_iphone/blob/main/iphone_final_smote.ipynb\" target=\"_parent\"><img src=\"https://colab.research.google.com/assets/colab-badge.svg\" alt=\"Open In Colab\"/></a>"
      ]
    },
    {
      "cell_type": "code",
      "execution_count": null,
      "metadata": {
        "colab": {
          "background_save": true
        },
        "id": "8tBw30lPf1QF"
      },
      "outputs": [],
      "source": [
        "import torch\n",
        "import pandas as pd\n",
        "import numpy as np\n",
        "import kagglehub\n",
        "import os\n",
        "from transformers import RobertaTokenizer, RobertaModel\n",
        "from sklearn.model_selection import train_test_split\n",
        "from sklearn.preprocessing import LabelEncoder\n",
        "from sklearn.metrics import accuracy_score, classification_report, confusion_matrix\n",
        "from xgboost import XGBClassifier\n",
        "from imblearn.over_sampling import SMOTE\n",
        "import matplotlib.pyplot as plt\n",
        "import seaborn as sns"
      ]
    },
    {
      "cell_type": "code",
      "execution_count": null,
      "metadata": {
        "colab": {
          "background_save": true
        },
        "id": "CalAXiCQhtWC"
      },
      "outputs": [],
      "source": [
        "# Download dan load dataset\n",
        "df = kagglehub.dataset_download(\"mrmars1010/iphone-customer-reviews-nlp\")\n",
        "print(\"Path to dataset files:\", df)\n",
        "\n",
        "for dirname, _, filenames in os.walk('/kaggle/input'):\n",
        "    for filename in filenames:\n",
        "        print(os.path.join(dirname, filename))\n",
        "\n",
        "data_file = os.path.join(df, \"iphone.csv\")\n",
        "df = pd.read_csv(data_file)"
      ]
    },
    {
      "cell_type": "code",
      "execution_count": null,
      "metadata": {
        "colab": {
          "background_save": true
        },
        "id": "BcKtWQta7y4h"
      },
      "outputs": [],
      "source": [
        "#MISSING VALUE\n",
        "# Hapus missing di kolom penting sebelum proses lanjutan\n",
        "df = df.dropna(subset=['reviewTitle', 'reviewDescription'])\n",
        "\n",
        "# Salin data asli sebelum bersih total\n",
        "df_raw = df.copy()\n",
        "\n",
        "# Gabungkan teks dan buat label\n",
        "df['reviewText'] = df['reviewTitle'] + \" \" + df['reviewDescription']\n",
        "df['sentiment'] = df['ratingScore'].apply(lambda x: 1 if x >= 4 else 0)\n",
        "\n",
        "# Tampilkan jumlah missing per kolom (debugging)\n",
        "print(\"Jumlah missing per kolom:\")\n",
        "print(df.isnull().sum())\n",
        "\n",
        "# Simpan jumlah data sebelum penghapusan total missing\n",
        "jumlah_awal = len(df)\n",
        "\n",
        "# Bersihkan semua baris yang memiliki missing di kolom manapun\n",
        "df_clean = df.dropna()\n",
        "\n",
        "# Cek jumlah data setelah dibersihkan\n",
        "jumlah_akhir = len(df_clean)\n",
        "jumlah_dihapus = jumlah_awal - jumlah_akhir\n",
        "\n",
        "# Hitung jumlah label\n",
        "label_negatif = df_clean['sentiment'].value_counts().get(0, 0)\n",
        "label_positif = df_clean['sentiment'].value_counts().get(1, 0)"
      ]
    },
    {
      "cell_type": "code",
      "execution_count": null,
      "metadata": {
        "colab": {
          "background_save": true
        },
        "id": "n4fem5TO02TE"
      },
      "outputs": [],
      "source": [
        "df['sentiment'].value_counts()"
      ]
    },
    {
      "cell_type": "code",
      "execution_count": null,
      "metadata": {
        "colab": {
          "background_save": true
        },
        "id": "aJKPrAYVIj3u"
      },
      "outputs": [],
      "source": [
        "results = pd.DataFrame({\n",
        "    'Jumlah Data': [jumlah_akhir],\n",
        "    'Jumlah Missing Values Awal': [df_raw.isnull().sum().sum()],\n",
        "    'Jumlah Missing Values Akhir': [df_clean.isnull().sum().sum()],\n",
        "    'Jumlah Label negatif': [label_negatif],\n",
        "    'Jumlah Label positif': [label_positif]\n",
        "})\n",
        "\n",
        "display(results)"
      ]
    },
    {
      "cell_type": "code",
      "execution_count": null,
      "metadata": {
        "colab": {
          "background_save": true
        },
        "id": "8e3Nk6iaPb-f"
      },
      "outputs": [],
      "source": [
        "#LABEL ENCODING\n",
        "# Encode label (misalnya: 'positif' → 1, 'negatif' → 0)\n",
        "label_encoder = LabelEncoder()\n",
        "df['sentiment'] = label_encoder.fit_transform(df['sentiment'])"
      ]
    },
    {
      "cell_type": "code",
      "execution_count": null,
      "metadata": {
        "colab": {
          "background_save": true
        },
        "id": "2LUawt62iKax"
      },
      "outputs": [],
      "source": [
        "# Visualisasi distribusi label\n",
        "label_counts = df['sentiment'].value_counts()\n",
        "plt.figure(figsize=(6, 4))\n",
        "sns.barplot(x=label_counts.index, y=label_counts.values, palette=['red', 'green'])\n",
        "plt.title(\"Distribusi Sentimen Sebelum Training\")\n",
        "plt.xlabel(\"Sentimen\")\n",
        "plt.ylabel(\"Jumlah\")\n",
        "plt.xticks([0, 1], [\"Negatif (0)\", \"Positif (1)\"])\n",
        "plt.tight_layout()\n",
        "plt.show()"
      ]
    },
    {
      "cell_type": "code",
      "execution_count": null,
      "metadata": {
        "colab": {
          "background_save": true
        },
        "id": "aYXv8knULiXe"
      },
      "outputs": [],
      "source": [
        "# Split data\n",
        "train_texts, test_texts, train_labels, test_labels = train_test_split(\n",
        "    df['reviewText'].tolist(), df['sentiment'].tolist(), test_size=0.2, random_state=42\n",
        ")"
      ]
    },
    {
      "cell_type": "code",
      "execution_count": null,
      "metadata": {
        "colab": {
          "background_save": true,
          "base_uri": "https://localhost:8080/",
          "height": 243,
          "referenced_widgets": [
            "b6196cdcf80f454d97fde94aa1ee10e4",
            "56bd98c27497457c88d70065fc2b1b42",
            "5cf61e3caecb4720ac56de9b4d910cb6",
            "2f050380c42d477b869ed89e27c8ff90",
            "9d15da364f3f4485b7aeecccdd755465",
            "bb3aa4ea7f624a7a8efc073cfd9312f9"
          ]
        },
        "id": "K5HYMu_2Ist3",
        "outputId": "4f421edf-d0ac-444e-b6ab-e7ea0445f943"
      },
      "outputs": [
        {
          "name": "stderr",
          "output_type": "stream",
          "text": [
            "/usr/local/lib/python3.11/dist-packages/huggingface_hub/utils/_auth.py:104: UserWarning: \n",
            "Error while fetching `HF_TOKEN` secret value from your vault: 'Requesting secret HF_TOKEN timed out. Secrets can only be fetched when running from the Colab UI.'.\n",
            "You are not authenticated with the Hugging Face Hub in this notebook.\n",
            "If the error persists, please let us know by opening an issue on GitHub (https://github.com/huggingface/huggingface_hub/issues/new).\n",
            "  warnings.warn(\n"
          ]
        },
        {
          "data": {
            "application/vnd.jupyter.widget-view+json": {
              "model_id": "b6196cdcf80f454d97fde94aa1ee10e4",
              "version_major": 2,
              "version_minor": 0
            },
            "text/plain": [
              "tokenizer_config.json:   0%|          | 0.00/25.0 [00:00<?, ?B/s]"
            ]
          },
          "metadata": {},
          "output_type": "display_data"
        },
        {
          "data": {
            "application/vnd.jupyter.widget-view+json": {
              "model_id": "56bd98c27497457c88d70065fc2b1b42",
              "version_major": 2,
              "version_minor": 0
            },
            "text/plain": [
              "vocab.json:   0%|          | 0.00/899k [00:00<?, ?B/s]"
            ]
          },
          "metadata": {},
          "output_type": "display_data"
        },
        {
          "data": {
            "application/vnd.jupyter.widget-view+json": {
              "model_id": "5cf61e3caecb4720ac56de9b4d910cb6",
              "version_major": 2,
              "version_minor": 0
            },
            "text/plain": [
              "merges.txt:   0%|          | 0.00/456k [00:00<?, ?B/s]"
            ]
          },
          "metadata": {},
          "output_type": "display_data"
        },
        {
          "data": {
            "application/vnd.jupyter.widget-view+json": {
              "model_id": "2f050380c42d477b869ed89e27c8ff90",
              "version_major": 2,
              "version_minor": 0
            },
            "text/plain": [
              "tokenizer.json:   0%|          | 0.00/1.36M [00:00<?, ?B/s]"
            ]
          },
          "metadata": {},
          "output_type": "display_data"
        },
        {
          "data": {
            "application/vnd.jupyter.widget-view+json": {
              "model_id": "9d15da364f3f4485b7aeecccdd755465",
              "version_major": 2,
              "version_minor": 0
            },
            "text/plain": [
              "config.json:   0%|          | 0.00/481 [00:00<?, ?B/s]"
            ]
          },
          "metadata": {},
          "output_type": "display_data"
        },
        {
          "data": {
            "application/vnd.jupyter.widget-view+json": {
              "model_id": "bb3aa4ea7f624a7a8efc073cfd9312f9",
              "version_major": 2,
              "version_minor": 0
            },
            "text/plain": [
              "model.safetensors:   0%|          | 0.00/499M [00:00<?, ?B/s]"
            ]
          },
          "metadata": {},
          "output_type": "display_data"
        },
        {
          "name": "stderr",
          "output_type": "stream",
          "text": [
            "Some weights of RobertaModel were not initialized from the model checkpoint at roberta-base and are newly initialized: ['pooler.dense.bias', 'pooler.dense.weight']\n",
            "You should probably TRAIN this model on a down-stream task to be able to use it for predictions and inference.\n"
          ]
        }
      ],
      "source": [
        "#TOKENISASI\n",
        "# Load tokenizer & model\n",
        "tokenizer = RobertaTokenizer.from_pretrained(\"roberta-base\")\n",
        "model = RobertaModel.from_pretrained(\"roberta-base\")\n",
        "\n",
        "# Ekstraksi fitur\n",
        "def extract_features(text_list):\n",
        "    tokens = tokenizer(text_list, padding=True, truncation=True, max_length=512, return_tensors=\"pt\")\n",
        "    with torch.no_grad():\n",
        "        outputs = model(**tokens)\n",
        "    return outputs.last_hidden_state[:, 0, :].numpy()\n",
        "\n",
        "# Proses fitur training dan testing\n",
        "train_features = np.array([extract_features([text]) for text in train_texts])\n",
        "train_features = train_features.reshape(train_features.shape[0], -1)\n",
        "\n",
        "test_features = np.array([extract_features([text]) for text in test_texts])\n",
        "test_features = test_features.reshape(test_features.shape[0], -1)"
      ]
    },
    {
      "cell_type": "code",
      "execution_count": null,
      "metadata": {
        "colab": {
          "background_save": true
        },
        "id": "TKPwbfwijAV4"
      },
      "outputs": [],
      "source": [
        "#smote\n",
        "smote = SMOTE(random_state=42)\n",
        "train_features_smote, train_labels_smote = smote.fit_resample(train_features, train_labels)"
      ]
    },
    {
      "cell_type": "code",
      "execution_count": null,
      "metadata": {
        "colab": {
          "background_save": true,
          "base_uri": "https://localhost:8080/",
          "height": 158
        },
        "id": "Up20zdphjELh",
        "outputId": "c45173f0-b195-4052-fa97-726ed2e1d6ad"
      },
      "outputs": [
        {
          "name": "stdout",
          "output_type": "stream",
          "text": [
            "Jumlah Data Setelah SMOTE:\n",
            "Total: 3160\n",
            "Label 0 (Negatif): 1580\n",
            "Label 1 (Positif): 1580\n"
          ]
        },
        {
          "data": {
            "application/vnd.google.colaboratory.intrinsic+json": {
              "summary": "{\n  \"name\": \"results_smote\",\n  \"rows\": 1,\n  \"fields\": [\n    {\n      \"column\": \"Jumlah Data Setelah SMOTE\",\n      \"properties\": {\n        \"dtype\": \"number\",\n        \"std\": null,\n        \"min\": 3160,\n        \"max\": 3160,\n        \"num_unique_values\": 1,\n        \"samples\": [\n          3160\n        ],\n        \"semantic_type\": \"\",\n        \"description\": \"\"\n      }\n    },\n    {\n      \"column\": \"Jumlah Label Negatif\",\n      \"properties\": {\n        \"dtype\": \"number\",\n        \"std\": null,\n        \"min\": 1580,\n        \"max\": 1580,\n        \"num_unique_values\": 1,\n        \"samples\": [\n          1580\n        ],\n        \"semantic_type\": \"\",\n        \"description\": \"\"\n      }\n    },\n    {\n      \"column\": \"Jumlah Label Positif\",\n      \"properties\": {\n        \"dtype\": \"number\",\n        \"std\": null,\n        \"min\": 1580,\n        \"max\": 1580,\n        \"num_unique_values\": 1,\n        \"samples\": [\n          1580\n        ],\n        \"semantic_type\": \"\",\n        \"description\": \"\"\n      }\n    }\n  ]\n}",
              "type": "dataframe",
              "variable_name": "results_smote"
            },
            "text/html": [
              "\n",
              "  <div id=\"df-f456f563-0f5d-49b4-9f02-343c7c7adb94\" class=\"colab-df-container\">\n",
              "    <div>\n",
              "<style scoped>\n",
              "    .dataframe tbody tr th:only-of-type {\n",
              "        vertical-align: middle;\n",
              "    }\n",
              "\n",
              "    .dataframe tbody tr th {\n",
              "        vertical-align: top;\n",
              "    }\n",
              "\n",
              "    .dataframe thead th {\n",
              "        text-align: right;\n",
              "    }\n",
              "</style>\n",
              "<table border=\"1\" class=\"dataframe\">\n",
              "  <thead>\n",
              "    <tr style=\"text-align: right;\">\n",
              "      <th></th>\n",
              "      <th>Jumlah Data Setelah SMOTE</th>\n",
              "      <th>Jumlah Label Negatif</th>\n",
              "      <th>Jumlah Label Positif</th>\n",
              "    </tr>\n",
              "  </thead>\n",
              "  <tbody>\n",
              "    <tr>\n",
              "      <th>0</th>\n",
              "      <td>3160</td>\n",
              "      <td>1580</td>\n",
              "      <td>1580</td>\n",
              "    </tr>\n",
              "  </tbody>\n",
              "</table>\n",
              "</div>\n",
              "    <div class=\"colab-df-buttons\">\n",
              "\n",
              "  <div class=\"colab-df-container\">\n",
              "    <button class=\"colab-df-convert\" onclick=\"convertToInteractive('df-f456f563-0f5d-49b4-9f02-343c7c7adb94')\"\n",
              "            title=\"Convert this dataframe to an interactive table.\"\n",
              "            style=\"display:none;\">\n",
              "\n",
              "  <svg xmlns=\"http://www.w3.org/2000/svg\" height=\"24px\" viewBox=\"0 -960 960 960\">\n",
              "    <path d=\"M120-120v-720h720v720H120Zm60-500h600v-160H180v160Zm220 220h160v-160H400v160Zm0 220h160v-160H400v160ZM180-400h160v-160H180v160Zm440 0h160v-160H620v160ZM180-180h160v-160H180v160Zm440 0h160v-160H620v160Z\"/>\n",
              "  </svg>\n",
              "    </button>\n",
              "\n",
              "  <style>\n",
              "    .colab-df-container {\n",
              "      display:flex;\n",
              "      gap: 12px;\n",
              "    }\n",
              "\n",
              "    .colab-df-convert {\n",
              "      background-color: #E8F0FE;\n",
              "      border: none;\n",
              "      border-radius: 50%;\n",
              "      cursor: pointer;\n",
              "      display: none;\n",
              "      fill: #1967D2;\n",
              "      height: 32px;\n",
              "      padding: 0 0 0 0;\n",
              "      width: 32px;\n",
              "    }\n",
              "\n",
              "    .colab-df-convert:hover {\n",
              "      background-color: #E2EBFA;\n",
              "      box-shadow: 0px 1px 2px rgba(60, 64, 67, 0.3), 0px 1px 3px 1px rgba(60, 64, 67, 0.15);\n",
              "      fill: #174EA6;\n",
              "    }\n",
              "\n",
              "    .colab-df-buttons div {\n",
              "      margin-bottom: 4px;\n",
              "    }\n",
              "\n",
              "    [theme=dark] .colab-df-convert {\n",
              "      background-color: #3B4455;\n",
              "      fill: #D2E3FC;\n",
              "    }\n",
              "\n",
              "    [theme=dark] .colab-df-convert:hover {\n",
              "      background-color: #434B5C;\n",
              "      box-shadow: 0px 1px 3px 1px rgba(0, 0, 0, 0.15);\n",
              "      filter: drop-shadow(0px 1px 2px rgba(0, 0, 0, 0.3));\n",
              "      fill: #FFFFFF;\n",
              "    }\n",
              "  </style>\n",
              "\n",
              "    <script>\n",
              "      const buttonEl =\n",
              "        document.querySelector('#df-f456f563-0f5d-49b4-9f02-343c7c7adb94 button.colab-df-convert');\n",
              "      buttonEl.style.display =\n",
              "        google.colab.kernel.accessAllowed ? 'block' : 'none';\n",
              "\n",
              "      async function convertToInteractive(key) {\n",
              "        const element = document.querySelector('#df-f456f563-0f5d-49b4-9f02-343c7c7adb94');\n",
              "        const dataTable =\n",
              "          await google.colab.kernel.invokeFunction('convertToInteractive',\n",
              "                                                    [key], {});\n",
              "        if (!dataTable) return;\n",
              "\n",
              "        const docLinkHtml = 'Like what you see? Visit the ' +\n",
              "          '<a target=\"_blank\" href=https://colab.research.google.com/notebooks/data_table.ipynb>data table notebook</a>'\n",
              "          + ' to learn more about interactive tables.';\n",
              "        element.innerHTML = '';\n",
              "        dataTable['output_type'] = 'display_data';\n",
              "        await google.colab.output.renderOutput(dataTable, element);\n",
              "        const docLink = document.createElement('div');\n",
              "        docLink.innerHTML = docLinkHtml;\n",
              "        element.appendChild(docLink);\n",
              "      }\n",
              "    </script>\n",
              "  </div>\n",
              "\n",
              "\n",
              "  <div id=\"id_1852f94b-3528-40be-a34a-0691ac4523c6\">\n",
              "    <style>\n",
              "      .colab-df-generate {\n",
              "        background-color: #E8F0FE;\n",
              "        border: none;\n",
              "        border-radius: 50%;\n",
              "        cursor: pointer;\n",
              "        display: none;\n",
              "        fill: #1967D2;\n",
              "        height: 32px;\n",
              "        padding: 0 0 0 0;\n",
              "        width: 32px;\n",
              "      }\n",
              "\n",
              "      .colab-df-generate:hover {\n",
              "        background-color: #E2EBFA;\n",
              "        box-shadow: 0px 1px 2px rgba(60, 64, 67, 0.3), 0px 1px 3px 1px rgba(60, 64, 67, 0.15);\n",
              "        fill: #174EA6;\n",
              "      }\n",
              "\n",
              "      [theme=dark] .colab-df-generate {\n",
              "        background-color: #3B4455;\n",
              "        fill: #D2E3FC;\n",
              "      }\n",
              "\n",
              "      [theme=dark] .colab-df-generate:hover {\n",
              "        background-color: #434B5C;\n",
              "        box-shadow: 0px 1px 3px 1px rgba(0, 0, 0, 0.15);\n",
              "        filter: drop-shadow(0px 1px 2px rgba(0, 0, 0, 0.3));\n",
              "        fill: #FFFFFF;\n",
              "      }\n",
              "    </style>\n",
              "    <button class=\"colab-df-generate\" onclick=\"generateWithVariable('results_smote')\"\n",
              "            title=\"Generate code using this dataframe.\"\n",
              "            style=\"display:none;\">\n",
              "\n",
              "  <svg xmlns=\"http://www.w3.org/2000/svg\" height=\"24px\"viewBox=\"0 0 24 24\"\n",
              "       width=\"24px\">\n",
              "    <path d=\"M7,19H8.4L18.45,9,17,7.55,7,17.6ZM5,21V16.75L18.45,3.32a2,2,0,0,1,2.83,0l1.4,1.43a1.91,1.91,0,0,1,.58,1.4,1.91,1.91,0,0,1-.58,1.4L9.25,21ZM18.45,9,17,7.55Zm-12,3A5.31,5.31,0,0,0,4.9,8.1,5.31,5.31,0,0,0,1,6.5,5.31,5.31,0,0,0,4.9,4.9,5.31,5.31,0,0,0,6.5,1,5.31,5.31,0,0,0,8.1,4.9,5.31,5.31,0,0,0,12,6.5,5.46,5.46,0,0,0,6.5,12Z\"/>\n",
              "  </svg>\n",
              "    </button>\n",
              "    <script>\n",
              "      (() => {\n",
              "      const buttonEl =\n",
              "        document.querySelector('#id_1852f94b-3528-40be-a34a-0691ac4523c6 button.colab-df-generate');\n",
              "      buttonEl.style.display =\n",
              "        google.colab.kernel.accessAllowed ? 'block' : 'none';\n",
              "\n",
              "      buttonEl.onclick = () => {\n",
              "        google.colab.notebook.generateWithVariable('results_smote');\n",
              "      }\n",
              "      })();\n",
              "    </script>\n",
              "  </div>\n",
              "\n",
              "    </div>\n",
              "  </div>\n"
            ],
            "text/plain": [
              "   Jumlah Data Setelah SMOTE  Jumlah Label Negatif  Jumlah Label Positif\n",
              "0                       3160                  1580                  1580"
            ]
          },
          "metadata": {},
          "output_type": "display_data"
        }
      ],
      "source": [
        "# Tampilkan jumlah data setelah SMOTE\n",
        "post_smote_counts = pd.Series(train_labels_smote).value_counts()\n",
        "\n",
        "print(\"Jumlah Data Setelah SMOTE:\")\n",
        "print(f\"Total: {len(train_labels_smote)}\")\n",
        "print(f\"Label 0 (Negatif): {post_smote_counts[0]}\")\n",
        "print(f\"Label 1 (Positif): {post_smote_counts[1]}\")\n",
        "\n",
        "# Atau dalam bentuk tabel\n",
        "results_smote = pd.DataFrame({\n",
        "    'Jumlah Data Setelah SMOTE': [len(train_labels_smote)],\n",
        "    'Jumlah Label Negatif': [post_smote_counts[0]],\n",
        "    'Jumlah Label Positif': [post_smote_counts[1]]\n",
        "})\n",
        "display(results_smote)"
      ]
    },
    {
      "cell_type": "code",
      "execution_count": null,
      "metadata": {
        "colab": {
          "base_uri": "https://localhost:8080/"
        },
        "id": "eqVAUt4NjFr9",
        "outputId": "783657d4-ccb8-40d2-9530-0401441b2273"
      },
      "outputs": [
        {
          "name": "stdout",
          "output_type": "stream",
          "text": [
            "\n",
            "XGBoost Accuracy on Training Data (with SMOTE): 0.9971518987341772\n",
            "Classification Report (Training):\n",
            "               precision    recall  f1-score   support\n",
            "\n",
            "           0       1.00      0.99      1.00      1580\n",
            "           1       0.99      1.00      1.00      1580\n",
            "\n",
            "    accuracy                           1.00      3160\n",
            "   macro avg       1.00      1.00      1.00      3160\n",
            "weighted avg       1.00      1.00      1.00      3160\n",
            "\n",
            "\n",
            "XGBoost Accuracy on Test Data: 0.9194630872483222\n",
            "Classification Report (Test):\n",
            "               precision    recall  f1-score   support\n",
            "\n",
            "           0       0.86      0.87      0.87       182\n",
            "           1       0.94      0.94      0.94       414\n",
            "\n",
            "    accuracy                           0.92       596\n",
            "   macro avg       0.90      0.91      0.91       596\n",
            "weighted avg       0.92      0.92      0.92       596\n",
            "\n"
          ]
        }
      ],
      "source": [
        "xgb_clf = XGBClassifier(n_estimators=100, learning_rate=0.1, random_state=42)\n",
        "xgb_clf.fit(train_features_smote, train_labels_smote)\n",
        "\n",
        "# Evaluasi training\n",
        "train_preds = xgb_clf.predict(train_features_smote)\n",
        "test_preds = xgb_clf.predict(test_features)\n",
        "\n",
        "print(\"\\nXGBoost Accuracy on Training Data (with SMOTE):\", accuracy_score(train_labels_smote, train_preds))\n",
        "print(\"Classification Report (Training):\\n\", classification_report(train_labels_smote, train_preds))\n",
        "\n",
        "print(\"\\nXGBoost Accuracy on Test Data:\", accuracy_score(test_labels, test_preds))\n",
        "print(\"Classification Report (Test):\\n\", classification_report(test_labels, test_preds))"
      ]
    },
    {
      "cell_type": "code",
      "execution_count": null,
      "metadata": {
        "colab": {
          "base_uri": "https://localhost:8080/",
          "height": 407
        },
        "id": "lv4yX6osjIOw",
        "outputId": "0398bfc4-13f5-4565-ce20-4502ce321c21"
      },
      "outputs": [
        {
          "data": {
            "image/png": "[encoded data removed]",
            "text/plain": [
              "<Figure size 600x400 with 2 Axes>"
            ]
          },
          "metadata": {},
          "output_type": "display_data"
        }
      ],
      "source": [
        "# Confusion Matrix\n",
        "plt.figure(figsize=(6, 4))\n",
        "cm = confusion_matrix(test_labels, test_preds)\n",
        "sns.heatmap(cm, annot=True, fmt=\"d\", cmap=\"Blues\",\n",
        "            xticklabels=[\"Negatif (0)\", \"Positif (1)\"],\n",
        "            yticklabels=[\"Negatif (0)\", \"Positif (1)\"])\n",
        "plt.xlabel(\"Predicted Label\")\n",
        "plt.ylabel(\"True Label\")\n",
        "plt.title(\"Confusion Matrix - XGBoost dengan SMOTE\")\n",
        "plt.tight_layout()\n",
        "plt.show()"
      ]
    }
  ],
  "metadata": {
    "colab": {
      "provenance": [],
      "authorship_tag": "ABX9TyP1qaJL4yWJR/G8qHUtlZ3j",
      "include_colab_link": true
    },
    "kernelspec": {
      "display_name": "Python 3",
      "name": "python3"
    },
    "language_info": {
      "name": "python"
    }
  },
  "nbformat": 4,
  "nbformat_minor": 0
}